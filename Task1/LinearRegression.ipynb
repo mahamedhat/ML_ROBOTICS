{
 "cells": [
  {
   "cell_type": "markdown",
   "metadata": {},
   "source": [
    "## The Used Packages "
   ]
  },
  {
   "cell_type": "code",
   "execution_count": 718,
   "metadata": {},
   "outputs": [],
   "source": [
    "# Import the numpy library to use its numerical and mathematical functions.\n",
    "import numpy as np\n",
    "\n",
    "# Import the train_test_split function from scikit-learn to split the dataset into training and testing sets.\n",
    "from sklearn.model_selection import train_test_split\n",
    "\n",
    "# Import the LinearRegression class from scikit-learn to create and train a linear regression model(to compare it with the implemented one).\n",
    "from sklearn.linear_model import LinearRegression as skLinearRegression\n",
    "\n",
    "# Import the mean_squared_error function from scikit-learn to calculate the mean squared error as a model evaluation metric(to compare it with the MSE of the implemented one).\n",
    "from sklearn.metrics import mean_squared_error\n",
    "\n",
    "# Import the pandas library as to work with data in a structured and tabular form using DataFrames.\n",
    "import pandas as pd\n"
   ]
  },
  {
   "cell_type": "markdown",
   "metadata": {},
   "source": [
    "## Implementing Linear Regression model from scratch"
   ]
  },
  {
   "cell_type": "code",
   "execution_count": 719,
   "metadata": {},
   "outputs": [],
   "source": [
    "#Implementation for a Linear Regression class from scratch.\n",
    "\n",
    "class LinearRegression:\n",
    "\n",
    "    # Constructor for the LinearRegression class, with default values for learning rate and number of iterations.\n",
    "    def __init__(self, alpha=0.001, n_iters=1000):\n",
    "        self.alpha = alpha\n",
    "        self.n_iters = n_iters\n",
    "        self.weights = None\n",
    "        self.bias = None\n",
    "\n",
    "    # Method for training the linear regression model on the input data and target values.\n",
    "    def fit(self, X, y):\n",
    "        # Get the number of samples (m) and features (n).\n",
    "        m, n = X.shape  \n",
    "\n",
    "        # Initialize the weights with zeros.\n",
    "        self.weights = np.zeros(n)  \n",
    "        \n",
    "        # Initialize the bias with zero.\n",
    "        self.bias = 0  \n",
    "\n",
    "        # Iteratively update the weights and bias using gradient descent.\n",
    "        for _ in range(self.n_iters):\n",
    "            \n",
    "            # Model function:\n",
    "            y_pred = np.dot(X, self.weights) + self.bias\n",
    "\n",
    "            # Calculate gradients:\n",
    "            dj_dw = (1/m) * np.dot((y_pred - y), X)\n",
    "            dj_db = (1/m) * np.sum(y_pred - y)\n",
    "            # Update the weights and bias using the calculated gradients.\n",
    "            self.weights -= self.alpha * dj_dw\n",
    "            self.bias -= self.alpha * dj_db\n",
    "    \n",
    "    # Method for making predictions with the trained model.\n",
    "    def predict(self, X):\n",
    "        # Model function:\n",
    "        y_pred = np.dot(X, self.weights) + self.bias\n",
    "        return y_pred\n",
    "    \n",
    "    # Method for calculating the mean squared error (MSE) between predicted and actual target values.\n",
    "\n",
    "    def mse(self, y_test, y_pred):\n",
    "        return np.mean((y_test - y_pred)**2)\n",
    "    \n",
    "    # Calculate R^2 score (coefficient of determination) as a measure of model performance\n",
    "    def score(self,y_test,y_pred):\n",
    "        mean_y = np.mean(y_test)\n",
    "        ss_total = np.sum((y_test - mean_y) ** 2)\n",
    "        ss_residual = np.sum((y_test - y_pred) ** 2)\n",
    "        r_squared = 1 - (ss_residual / ss_total)\n",
    "        return r_squared\n",
    "\n"
   ]
  },
  {
   "cell_type": "markdown",
   "metadata": {},
   "source": [
    "## Testing the model"
   ]
  },
  {
   "cell_type": "code",
   "execution_count": 720,
   "metadata": {},
   "outputs": [
    {
     "data": {
      "text/html": [
       "<div>\n",
       "<style scoped>\n",
       "    .dataframe tbody tr th:only-of-type {\n",
       "        vertical-align: middle;\n",
       "    }\n",
       "\n",
       "    .dataframe tbody tr th {\n",
       "        vertical-align: top;\n",
       "    }\n",
       "\n",
       "    .dataframe thead th {\n",
       "        text-align: right;\n",
       "    }\n",
       "</style>\n",
       "<table border=\"1\" class=\"dataframe\">\n",
       "  <thead>\n",
       "    <tr style=\"text-align: right;\">\n",
       "      <th></th>\n",
       "      <th>age</th>\n",
       "      <th>sex</th>\n",
       "      <th>bmi</th>\n",
       "      <th>children</th>\n",
       "      <th>smoker</th>\n",
       "      <th>region</th>\n",
       "      <th>charges</th>\n",
       "    </tr>\n",
       "  </thead>\n",
       "  <tbody>\n",
       "    <tr>\n",
       "      <th>0</th>\n",
       "      <td>19</td>\n",
       "      <td>female</td>\n",
       "      <td>27.900</td>\n",
       "      <td>0</td>\n",
       "      <td>yes</td>\n",
       "      <td>southwest</td>\n",
       "      <td>16884.92400</td>\n",
       "    </tr>\n",
       "    <tr>\n",
       "      <th>1</th>\n",
       "      <td>18</td>\n",
       "      <td>male</td>\n",
       "      <td>33.770</td>\n",
       "      <td>1</td>\n",
       "      <td>no</td>\n",
       "      <td>southeast</td>\n",
       "      <td>1725.55230</td>\n",
       "    </tr>\n",
       "    <tr>\n",
       "      <th>2</th>\n",
       "      <td>28</td>\n",
       "      <td>male</td>\n",
       "      <td>33.000</td>\n",
       "      <td>3</td>\n",
       "      <td>no</td>\n",
       "      <td>southeast</td>\n",
       "      <td>4449.46200</td>\n",
       "    </tr>\n",
       "    <tr>\n",
       "      <th>3</th>\n",
       "      <td>33</td>\n",
       "      <td>male</td>\n",
       "      <td>22.705</td>\n",
       "      <td>0</td>\n",
       "      <td>no</td>\n",
       "      <td>northwest</td>\n",
       "      <td>21984.47061</td>\n",
       "    </tr>\n",
       "    <tr>\n",
       "      <th>4</th>\n",
       "      <td>32</td>\n",
       "      <td>male</td>\n",
       "      <td>28.880</td>\n",
       "      <td>0</td>\n",
       "      <td>no</td>\n",
       "      <td>northwest</td>\n",
       "      <td>3866.85520</td>\n",
       "    </tr>\n",
       "    <tr>\n",
       "      <th>...</th>\n",
       "      <td>...</td>\n",
       "      <td>...</td>\n",
       "      <td>...</td>\n",
       "      <td>...</td>\n",
       "      <td>...</td>\n",
       "      <td>...</td>\n",
       "      <td>...</td>\n",
       "    </tr>\n",
       "    <tr>\n",
       "      <th>1333</th>\n",
       "      <td>50</td>\n",
       "      <td>male</td>\n",
       "      <td>30.970</td>\n",
       "      <td>3</td>\n",
       "      <td>no</td>\n",
       "      <td>northwest</td>\n",
       "      <td>10600.54830</td>\n",
       "    </tr>\n",
       "    <tr>\n",
       "      <th>1334</th>\n",
       "      <td>18</td>\n",
       "      <td>female</td>\n",
       "      <td>31.920</td>\n",
       "      <td>0</td>\n",
       "      <td>no</td>\n",
       "      <td>northeast</td>\n",
       "      <td>2205.98080</td>\n",
       "    </tr>\n",
       "    <tr>\n",
       "      <th>1335</th>\n",
       "      <td>18</td>\n",
       "      <td>female</td>\n",
       "      <td>36.850</td>\n",
       "      <td>0</td>\n",
       "      <td>no</td>\n",
       "      <td>southeast</td>\n",
       "      <td>1629.83350</td>\n",
       "    </tr>\n",
       "    <tr>\n",
       "      <th>1336</th>\n",
       "      <td>21</td>\n",
       "      <td>female</td>\n",
       "      <td>25.800</td>\n",
       "      <td>0</td>\n",
       "      <td>no</td>\n",
       "      <td>southwest</td>\n",
       "      <td>2007.94500</td>\n",
       "    </tr>\n",
       "    <tr>\n",
       "      <th>1337</th>\n",
       "      <td>61</td>\n",
       "      <td>female</td>\n",
       "      <td>29.070</td>\n",
       "      <td>0</td>\n",
       "      <td>yes</td>\n",
       "      <td>northwest</td>\n",
       "      <td>29141.36030</td>\n",
       "    </tr>\n",
       "  </tbody>\n",
       "</table>\n",
       "<p>1338 rows × 7 columns</p>\n",
       "</div>"
      ],
      "text/plain": [
       "      age     sex     bmi  children smoker     region      charges\n",
       "0      19  female  27.900         0    yes  southwest  16884.92400\n",
       "1      18    male  33.770         1     no  southeast   1725.55230\n",
       "2      28    male  33.000         3     no  southeast   4449.46200\n",
       "3      33    male  22.705         0     no  northwest  21984.47061\n",
       "4      32    male  28.880         0     no  northwest   3866.85520\n",
       "...   ...     ...     ...       ...    ...        ...          ...\n",
       "1333   50    male  30.970         3     no  northwest  10600.54830\n",
       "1334   18  female  31.920         0     no  northeast   2205.98080\n",
       "1335   18  female  36.850         0     no  southeast   1629.83350\n",
       "1336   21  female  25.800         0     no  southwest   2007.94500\n",
       "1337   61  female  29.070         0    yes  northwest  29141.36030\n",
       "\n",
       "[1338 rows x 7 columns]"
      ]
     },
     "execution_count": 720,
     "metadata": {},
     "output_type": "execute_result"
    }
   ],
   "source": [
    "# reading the csv file as a dataframe\n",
    "df = pd.read_csv(r\"E:\\FOURTH YEAR\\FIRST SEMESTER\\AI in robotics\\Task1\\insurance.csv\")\n",
    "df"
   ]
  },
  {
   "cell_type": "markdown",
   "metadata": {},
   "source": [
    "### Data exploration and cleaning"
   ]
  },
  {
   "cell_type": "code",
   "execution_count": 721,
   "metadata": {},
   "outputs": [
    {
     "name": "stdout",
     "output_type": "stream",
     "text": [
      "<class 'pandas.core.frame.DataFrame'>\n",
      "RangeIndex: 1338 entries, 0 to 1337\n",
      "Data columns (total 7 columns):\n",
      " #   Column    Non-Null Count  Dtype  \n",
      "---  ------    --------------  -----  \n",
      " 0   age       1338 non-null   int64  \n",
      " 1   sex       1338 non-null   object \n",
      " 2   bmi       1338 non-null   float64\n",
      " 3   children  1338 non-null   int64  \n",
      " 4   smoker    1338 non-null   object \n",
      " 5   region    1338 non-null   object \n",
      " 6   charges   1338 non-null   float64\n",
      "dtypes: float64(2), int64(2), object(3)\n",
      "memory usage: 73.3+ KB\n"
     ]
    }
   ],
   "source": [
    "df.info()"
   ]
  },
  {
   "cell_type": "markdown",
   "metadata": {},
   "source": [
    "## Data Preprocessing\n",
    "### Now we have no null values and 3 categorical features"
   ]
  },
  {
   "cell_type": "code",
   "execution_count": 722,
   "metadata": {},
   "outputs": [
    {
     "data": {
      "text/plain": [
       "array(['female', 'male'], dtype=object)"
      ]
     },
     "execution_count": 722,
     "metadata": {},
     "output_type": "execute_result"
    }
   ],
   "source": [
    "df['sex'].unique()\n"
   ]
  },
  {
   "cell_type": "code",
   "execution_count": 723,
   "metadata": {},
   "outputs": [
    {
     "data": {
      "text/plain": [
       "dtype('int64')"
      ]
     },
     "execution_count": 723,
     "metadata": {},
     "output_type": "execute_result"
    }
   ],
   "source": [
    "# converting categorical features to numerical\n",
    "df['sex'] = df['sex'].map({'male': 0, 'female': 1})\n",
    "df['sex'].dtype"
   ]
  },
  {
   "cell_type": "code",
   "execution_count": 724,
   "metadata": {},
   "outputs": [
    {
     "data": {
      "text/plain": [
       "array(['yes', 'no'], dtype=object)"
      ]
     },
     "execution_count": 724,
     "metadata": {},
     "output_type": "execute_result"
    }
   ],
   "source": [
    "df['smoker'].unique()\n"
   ]
  },
  {
   "cell_type": "code",
   "execution_count": 725,
   "metadata": {},
   "outputs": [
    {
     "data": {
      "text/plain": [
       "dtype('int64')"
      ]
     },
     "execution_count": 725,
     "metadata": {},
     "output_type": "execute_result"
    }
   ],
   "source": [
    "# converting categorical features to numerical\n",
    "df['smoker'] = df['smoker'].map({'yes': 1, 'no': 0})\n",
    "df['smoker'].dtype"
   ]
  },
  {
   "cell_type": "code",
   "execution_count": 726,
   "metadata": {},
   "outputs": [
    {
     "data": {
      "text/plain": [
       "array(['southwest', 'southeast', 'northwest', 'northeast'], dtype=object)"
      ]
     },
     "execution_count": 726,
     "metadata": {},
     "output_type": "execute_result"
    }
   ],
   "source": [
    "df['region'].unique()\n"
   ]
  },
  {
   "cell_type": "code",
   "execution_count": 727,
   "metadata": {},
   "outputs": [
    {
     "data": {
      "text/plain": [
       "dtype('int64')"
      ]
     },
     "execution_count": 727,
     "metadata": {},
     "output_type": "execute_result"
    }
   ],
   "source": [
    "# Use pd.factorize() to automatically assign unique numerical labels to each distinct value in the 'region' column.\n",
    "df['region'] = pd.factorize(df['region'])[0]\n",
    "df['region'].dtype"
   ]
  },
  {
   "cell_type": "code",
   "execution_count": 728,
   "metadata": {},
   "outputs": [
    {
     "data": {
      "text/html": [
       "<div>\n",
       "<style scoped>\n",
       "    .dataframe tbody tr th:only-of-type {\n",
       "        vertical-align: middle;\n",
       "    }\n",
       "\n",
       "    .dataframe tbody tr th {\n",
       "        vertical-align: top;\n",
       "    }\n",
       "\n",
       "    .dataframe thead th {\n",
       "        text-align: right;\n",
       "    }\n",
       "</style>\n",
       "<table border=\"1\" class=\"dataframe\">\n",
       "  <thead>\n",
       "    <tr style=\"text-align: right;\">\n",
       "      <th></th>\n",
       "      <th>age</th>\n",
       "      <th>sex</th>\n",
       "      <th>bmi</th>\n",
       "      <th>children</th>\n",
       "      <th>smoker</th>\n",
       "      <th>region</th>\n",
       "      <th>charges</th>\n",
       "    </tr>\n",
       "  </thead>\n",
       "  <tbody>\n",
       "    <tr>\n",
       "      <th>0</th>\n",
       "      <td>19</td>\n",
       "      <td>1</td>\n",
       "      <td>27.900</td>\n",
       "      <td>0</td>\n",
       "      <td>1</td>\n",
       "      <td>0</td>\n",
       "      <td>16884.92400</td>\n",
       "    </tr>\n",
       "    <tr>\n",
       "      <th>1</th>\n",
       "      <td>18</td>\n",
       "      <td>0</td>\n",
       "      <td>33.770</td>\n",
       "      <td>1</td>\n",
       "      <td>0</td>\n",
       "      <td>1</td>\n",
       "      <td>1725.55230</td>\n",
       "    </tr>\n",
       "    <tr>\n",
       "      <th>2</th>\n",
       "      <td>28</td>\n",
       "      <td>0</td>\n",
       "      <td>33.000</td>\n",
       "      <td>3</td>\n",
       "      <td>0</td>\n",
       "      <td>1</td>\n",
       "      <td>4449.46200</td>\n",
       "    </tr>\n",
       "    <tr>\n",
       "      <th>3</th>\n",
       "      <td>33</td>\n",
       "      <td>0</td>\n",
       "      <td>22.705</td>\n",
       "      <td>0</td>\n",
       "      <td>0</td>\n",
       "      <td>2</td>\n",
       "      <td>21984.47061</td>\n",
       "    </tr>\n",
       "    <tr>\n",
       "      <th>4</th>\n",
       "      <td>32</td>\n",
       "      <td>0</td>\n",
       "      <td>28.880</td>\n",
       "      <td>0</td>\n",
       "      <td>0</td>\n",
       "      <td>2</td>\n",
       "      <td>3866.85520</td>\n",
       "    </tr>\n",
       "    <tr>\n",
       "      <th>...</th>\n",
       "      <td>...</td>\n",
       "      <td>...</td>\n",
       "      <td>...</td>\n",
       "      <td>...</td>\n",
       "      <td>...</td>\n",
       "      <td>...</td>\n",
       "      <td>...</td>\n",
       "    </tr>\n",
       "    <tr>\n",
       "      <th>1333</th>\n",
       "      <td>50</td>\n",
       "      <td>0</td>\n",
       "      <td>30.970</td>\n",
       "      <td>3</td>\n",
       "      <td>0</td>\n",
       "      <td>2</td>\n",
       "      <td>10600.54830</td>\n",
       "    </tr>\n",
       "    <tr>\n",
       "      <th>1334</th>\n",
       "      <td>18</td>\n",
       "      <td>1</td>\n",
       "      <td>31.920</td>\n",
       "      <td>0</td>\n",
       "      <td>0</td>\n",
       "      <td>3</td>\n",
       "      <td>2205.98080</td>\n",
       "    </tr>\n",
       "    <tr>\n",
       "      <th>1335</th>\n",
       "      <td>18</td>\n",
       "      <td>1</td>\n",
       "      <td>36.850</td>\n",
       "      <td>0</td>\n",
       "      <td>0</td>\n",
       "      <td>1</td>\n",
       "      <td>1629.83350</td>\n",
       "    </tr>\n",
       "    <tr>\n",
       "      <th>1336</th>\n",
       "      <td>21</td>\n",
       "      <td>1</td>\n",
       "      <td>25.800</td>\n",
       "      <td>0</td>\n",
       "      <td>0</td>\n",
       "      <td>0</td>\n",
       "      <td>2007.94500</td>\n",
       "    </tr>\n",
       "    <tr>\n",
       "      <th>1337</th>\n",
       "      <td>61</td>\n",
       "      <td>1</td>\n",
       "      <td>29.070</td>\n",
       "      <td>0</td>\n",
       "      <td>1</td>\n",
       "      <td>2</td>\n",
       "      <td>29141.36030</td>\n",
       "    </tr>\n",
       "  </tbody>\n",
       "</table>\n",
       "<p>1338 rows × 7 columns</p>\n",
       "</div>"
      ],
      "text/plain": [
       "      age  sex     bmi  children  smoker  region      charges\n",
       "0      19    1  27.900         0       1       0  16884.92400\n",
       "1      18    0  33.770         1       0       1   1725.55230\n",
       "2      28    0  33.000         3       0       1   4449.46200\n",
       "3      33    0  22.705         0       0       2  21984.47061\n",
       "4      32    0  28.880         0       0       2   3866.85520\n",
       "...   ...  ...     ...       ...     ...     ...          ...\n",
       "1333   50    0  30.970         3       0       2  10600.54830\n",
       "1334   18    1  31.920         0       0       3   2205.98080\n",
       "1335   18    1  36.850         0       0       1   1629.83350\n",
       "1336   21    1  25.800         0       0       0   2007.94500\n",
       "1337   61    1  29.070         0       1       2  29141.36030\n",
       "\n",
       "[1338 rows x 7 columns]"
      ]
     },
     "execution_count": 728,
     "metadata": {},
     "output_type": "execute_result"
    }
   ],
   "source": [
    "df"
   ]
  },
  {
   "cell_type": "code",
   "execution_count": 729,
   "metadata": {},
   "outputs": [
    {
     "name": "stdout",
     "output_type": "stream",
     "text": [
      "<class 'pandas.core.frame.DataFrame'>\n",
      "RangeIndex: 1338 entries, 0 to 1337\n",
      "Data columns (total 7 columns):\n",
      " #   Column    Non-Null Count  Dtype  \n",
      "---  ------    --------------  -----  \n",
      " 0   age       1338 non-null   int64  \n",
      " 1   sex       1338 non-null   int64  \n",
      " 2   bmi       1338 non-null   float64\n",
      " 3   children  1338 non-null   int64  \n",
      " 4   smoker    1338 non-null   int64  \n",
      " 5   region    1338 non-null   int64  \n",
      " 6   charges   1338 non-null   float64\n",
      "dtypes: float64(2), int64(5)\n",
      "memory usage: 73.3 KB\n"
     ]
    }
   ],
   "source": [
    "df.info()"
   ]
  },
  {
   "cell_type": "code",
   "execution_count": 730,
   "metadata": {},
   "outputs": [],
   "source": [
    "#Input variables\n",
    "X = df.drop(columns=['charges']) \n",
    "y = df['charges'] \n"
   ]
  },
  {
   "cell_type": "markdown",
   "metadata": {},
   "source": [
    "## Using sklearn model\n"
   ]
  },
  {
   "cell_type": "code",
   "execution_count": 731,
   "metadata": {},
   "outputs": [
    {
     "name": "stdout",
     "output_type": "stream",
     "text": [
      "mse = 33635210.43117845\n",
      "R^2 Score sk:  0.7833463107364536\n"
     ]
    }
   ],
   "source": [
    "model = skLinearRegression()\n",
    "model.fit(X_train, y_train)\n",
    "y_pred = model.predict(X_test)\n",
    "\n",
    "mse = mean_squared_error(y_test, y_pred)\n",
    "\n",
    "print(f\"mse = {mse}\")\n",
    "print('R^2 Score sk: ', model.score(X_test, y_test))"
   ]
  },
  {
   "cell_type": "code",
   "execution_count": 732,
   "metadata": {},
   "outputs": [
    {
     "data": {
      "text/plain": [
       "array([ 8924.40724442,  7116.29501758, 36909.01352144,  9507.87469118,\n",
       "       27013.3500079 , 10790.77956153,   226.29844571, 16942.71599941,\n",
       "        1056.63079407, 11267.91997309, 28048.59793155,  9424.36324087,\n",
       "        5326.32232088, 38460.06017922, 40303.40597026, 37147.01010262,\n",
       "       15287.91876684, 35965.05485917,  9179.1753067 , 31510.8319849 ,\n",
       "        3797.79068365, 10070.82803304,  2312.57551348,  7074.41348194,\n",
       "       11352.37224357, 12907.77079523, 14448.84678727,  6205.65997921,\n",
       "        9917.00839638,  2239.50032819,  9060.55469043, 13120.56214535,\n",
       "        4617.70702822,  3467.91218926,  4402.74821855, 12967.91608907,\n",
       "        1927.44498944,  8757.9180081 , 33324.35180597, 32638.47697026,\n",
       "        3852.41756615,  4370.39670883, 14080.76023234, 11478.63402576,\n",
       "        8829.26135924, 12046.15119133,  5322.80515731,  3100.71182484,\n",
       "       35546.60547574,  9201.61196817, 15894.23763341,  2406.04003607,\n",
       "       12397.52052544,  1433.90617387, 13448.14094304, 12519.54174599,\n",
       "        4295.28664609, 32202.67982224, 13263.171278  , 12842.10998145,\n",
       "       14111.93665793, 10551.59361363, 16298.16745307,  7818.15570419,\n",
       "       11787.5726767 ,  4113.26897366, 26596.69895299, 10998.86488364,\n",
       "        2193.72748353,  6139.35587246, 10668.53569182, 11573.9066314 ,\n",
       "       11041.12265049,  9226.58405681, 12007.44404757,  6811.43260247,\n",
       "        7191.83534635, 10790.05517482,  6639.37239748,  8711.93118512,\n",
       "        3824.75581175, 36583.59532017,  6321.81241487, 30776.79577931,\n",
       "       34875.57159272, 35221.47920524,  7079.6173919 , 12906.65057781,\n",
       "        9989.1664665 , 14409.60808941, 17632.66059003, 35329.860348  ,\n",
       "       32980.23882829,  6136.20837946, 32051.98799937,  9422.40290935,\n",
       "       29504.90196714,  3732.73937642, 28359.80070947,  5779.65825838,\n",
       "        5456.76178371,  1827.69473369, 11549.90308087, 15012.88613485,\n",
       "       11657.94522782,  4363.64612857,  9957.82591489, 31781.66667504,\n",
       "        -129.15666671, 32890.39693986,  3219.18553916, 10224.50053069,\n",
       "       14265.38958083, 31584.36114122, 11409.59610007,  3867.75510966,\n",
       "       13059.64952969, 31756.32678896,  8214.15949009,  3287.68482341,\n",
       "        8383.13242816, 10636.53442336, 15157.79567852,  5702.50803854,\n",
       "        3836.57711344, 10272.53498033, 10956.58803242, 11071.81222693,\n",
       "       14496.65293874,  7476.92979541,  5450.7838718 ,  9288.29781036,\n",
       "        9399.10130723, 12476.31967945,  8278.36782145, 15269.65350487,\n",
       "        8352.0773264 , 31738.37507699, 35819.0919374 , 31547.64757647,\n",
       "        6063.62004331, 12551.29214568,  6068.87670979, 14599.41823771,\n",
       "        2561.45561332, 32910.51327403,  6315.23815745,  4979.52619562,\n",
       "       14384.66253028,  6884.14533684, 38706.08936188,  3136.57875731,\n",
       "        5933.09672913, 31625.64350684, 11596.31482335,  8417.73814018,\n",
       "       14754.03399782,  9879.46313846, 27160.43717287, 33395.00044119,\n",
       "       14499.08558691,  1735.96411757, 13118.53913261,  2176.90038413,\n",
       "        5388.3723652 , 11622.93526416, 39740.86555088, 36545.08554993,\n",
       "       33944.7368711 ,  3840.12640295,  7412.53476742,  8602.72483011,\n",
       "       12382.55575653,  4865.6463079 ,  1994.45684083, 32178.79507351,\n",
       "       25053.78358388, 17536.06907271, 26471.06879885, 10217.73115571,\n",
       "       37210.3346986 ,  -477.16780371,  6841.29733603,  7720.38130108,\n",
       "        4324.62825932,  5148.0933114 ,  5866.88847075,  4252.37584458,\n",
       "       15235.17791982, 11184.09152901,  6865.81092558,  2473.47336319,\n",
       "        1492.04619416, 31876.36248207, 16467.91708528, 12070.84318949,\n",
       "        1321.2739762 , 12481.98404136,  1516.49611385,  8688.35998638,\n",
       "        1929.99456629, 33965.04310923, 10902.16179703,  2652.65198314,\n",
       "       25737.23494393, 26409.75401731,  9484.12006941,  1858.05146312,\n",
       "       13312.36096237,  1075.29369445, 10343.96143124, 10640.16353845,\n",
       "       16869.18074438, 26909.56154116,  7008.93073183,  5143.45838554,\n",
       "        5911.31580735, 13297.21771797, 11170.92069347,  8419.97039114,\n",
       "        5174.40556158, 12343.87783448, 13902.30234269, 35823.29733596,\n",
       "        4200.49918603, 28974.98455685,  -959.29164157,  2918.94252879,\n",
       "       11110.5125204 , 15731.80607464,  5263.76292369,  6952.83452504,\n",
       "        3804.57987076, 31256.71206045,  7305.58851362, 12461.33830574,\n",
       "        5664.21701114,  9467.26109398, 36360.68777321,  4486.61219507,\n",
       "        9633.32288878, 31093.62476199,  5787.94047478,  4665.96142198,\n",
       "        1100.68575505,  4877.83258252,  4521.289931  ,  6448.7580369 ,\n",
       "       18700.99259398, -1483.15281815,  2319.79804103, 10631.36072374,\n",
       "        3100.2784844 , 10170.02300527,  3777.51558282,  5184.56040253,\n",
       "       12348.21008641,  6259.90128781,  8190.47916435,  7537.06854145,\n",
       "        8973.20505699, 10544.17289411, 27868.40112099, 39116.96866869,\n",
       "       11814.55556842,  7638.1077356 , 40959.08172164, 12258.22852853])"
      ]
     },
     "execution_count": 732,
     "metadata": {},
     "output_type": "execute_result"
    }
   ],
   "source": [
    "y_pred"
   ]
  },
  {
   "cell_type": "markdown",
   "metadata": {},
   "source": [
    "## Using the implemented model"
   ]
  },
  {
   "cell_type": "code",
   "execution_count": 733,
   "metadata": {},
   "outputs": [
    {
     "name": "stdout",
     "output_type": "stream",
     "text": [
      "mse = 130892113.41490564\n",
      "R^2 Score:  0.1568877107260519\n"
     ]
    }
   ],
   "source": [
    "# Splitting the data into training and testing sets, with 80% for training and 20% for testing.\n",
    "X_train, X_test, y_train, y_test = train_test_split(X, y, test_size=0.2, random_state=42)\n",
    "\n",
    "# Creating an instance of implemented LinearRegression class with specific hyperparameters (learning rate and number of iterations).\n",
    "reg = LinearRegression(0.0001, 1000)\n",
    "\n",
    "# Fitting (training) the LinearRegression model on the training data (X_train, y_train).\n",
    "reg.fit(X_train, y_train)\n",
    "\n",
    "# Making predictions using the trained model on the testing data.\n",
    "pred = reg.predict(X_test)\n",
    "\n",
    "# Calculating the mean squared error (MSE) between the predicted values (pred) and the actual target values (y_test).\n",
    "mse = reg.mse(y_test, pred)\n",
    "\n",
    "# Printing the MSE as a measure of the model's performance on the test data.\n",
    "print(f\"mse = {mse}\")\n",
    "# Print R^2 score\n",
    "print('R^2 Score: ', reg.score(y_test, pred))"
   ]
  },
  {
   "cell_type": "code",
   "execution_count": 734,
   "metadata": {},
   "outputs": [
    {
     "data": {
      "text/plain": [
       "array([13592.59898907, 12604.50098066, 17859.94181837, 13992.91234169,\n",
       "       10061.87758969, 14716.31142089,  7883.01861112, 19582.96650857,\n",
       "        8668.1725028 , 15129.41368459, 10984.39698451, 13858.19985697,\n",
       "       11217.13070497, 17472.6113417 , 19738.80485367, 16963.61693051,\n",
       "       17635.11226581, 16425.74179526, 14245.81071905, 13762.59942283,\n",
       "        9668.04490885, 14610.54836816,  9384.30806965, 11711.26168068,\n",
       "       15178.20989506, 16621.36318654, 18223.86431796, 11117.35412904,\n",
       "       14249.51564612,  9147.5630849 , 13499.79550151, 17039.65523376,\n",
       "       10578.49531422,  9746.93589743, 10741.14043015, 16238.46506498,\n",
       "        9052.19263218, 13999.68341328, 15068.90865003, 14051.52339096,\n",
       "        9337.35865285, 10227.40420286, 17640.33843143, 16278.28493534,\n",
       "       13255.99253799, 16711.93787821, 10485.27738703,  9571.44252794,\n",
       "       15693.23812583, 13359.85438564, 19040.80944398,  9069.36789492,\n",
       "       15584.40864075,  8410.19512471, 17364.68972143, 15905.70332164,\n",
       "       10627.07663629, 13063.22370552, 17459.3344653 , 16532.9290726 ,\n",
       "       18191.59277973, 14010.34044438, 18843.50589414, 12964.67878058,\n",
       "       15893.32824369, 10344.9999826 ,  9537.60541497, 15279.14062622,\n",
       "        9119.60078245, 11672.73848915, 14422.98960987, 15121.1783905 ,\n",
       "       15558.29075475, 13788.46875548, 15768.63090795, 12578.75920464,\n",
       "       11572.94861352, 15688.87154684, 11726.12511616, 13735.688118  ,\n",
       "       10134.80546416, 17480.82393131, 11900.65402128, 11830.51669791,\n",
       "       14572.68760244, 16099.58227789, 11954.2696817 , 16866.86576644,\n",
       "       14226.56461025, 17376.19024483, 19327.51693129, 17123.95295125,\n",
       "       14473.74837493, 11362.94415322, 13569.12312405, 14145.4639294 ,\n",
       "       12097.62550465, 10033.40694408, 10819.38268552, 11321.45127652,\n",
       "       11197.4919256 ,  9063.94009065, 15529.12080866, 17867.94818092,\n",
       "       16337.72260073, 10160.47212183, 14455.22338562, 14626.21331371,\n",
       "        7538.99612364, 15023.05202541,  9889.62220561, 13841.81230018,\n",
       "       17414.38355823, 13021.85217902, 15356.12695977, 10131.93132535,\n",
       "       17067.14877351, 13845.74900246, 13070.39155585,  9675.77374459,\n",
       "       12891.7226778 , 14533.82357209, 17429.7402192 , 11388.74969547,\n",
       "       10019.76232615, 14280.83081122, 15080.97027331, 15217.96914873,\n",
       "       18054.49455134, 12325.91612414, 11613.0311842 , 13444.49920007,\n",
       "       13627.16459202, 15914.35401831, 13696.06913994, 18508.61036162,\n",
       "       13043.70712362, 14176.05569853, 16215.71653968, 13327.91903409,\n",
       "       12017.7751228 , 16267.16298746, 11696.62529194, 17262.69763849,\n",
       "        9689.86899519, 14850.18743973, 11710.58165795, 11442.70927913,\n",
       "       16920.1441539 , 12590.7210058 , 17778.30859796,  9712.45949727,\n",
       "       11206.25030548, 12991.2992833 , 15034.16941241, 13132.14123756,\n",
       "       18115.21600246, 14687.96472816, 10237.92577516, 14392.17548141,\n",
       "       17373.61904499,  8553.43695589, 17397.81707789,  9083.50012328,\n",
       "       10792.9457691 , 15279.62576047, 19674.84124501, 17294.24173513,\n",
       "       14905.92808023, 10496.62408369, 13560.83356943, 13705.83604029,\n",
       "       15601.18295262, 10969.97251399,  9312.39862795, 14365.51873374,\n",
       "        9258.03743521, 20057.86003391, 10041.35942542, 15421.71423177,\n",
       "       17831.87285644,  7279.4067625 , 12900.52590913, 12954.86238749,\n",
       "       10078.53712507, 10885.44746969, 11280.17915293, 10985.58299932,\n",
       "       17673.061198  , 15906.76890812, 11616.42065733,  8939.50350766,\n",
       "        8599.83667686, 13340.72087759, 19358.83386553, 16287.73348813,\n",
       "        8322.30252704, 16042.00615944,  8406.11636415, 14494.79174647,\n",
       "        9195.46069528, 15647.13906735, 14255.8470699 ,  8943.46091802,\n",
       "        9325.49851754, 10234.21582868, 14700.07676604,  8434.95755658,\n",
       "       16874.31473497,  8784.57985411, 16089.72395018, 15630.32341653,\n",
       "       18072.58725127, 10511.06650582, 12604.25986034, 11049.70759054,\n",
       "       11750.53440908, 16872.91285994, 16252.67949003, 13252.44859348,\n",
       "       10744.60212801, 15982.98837033, 16119.8651002 , 16018.47578228,\n",
       "       10303.72785901, 11765.93822375,  7510.56700604,  9433.92008787,\n",
       "       15631.57003544, 17540.48250247, 10988.69691739, 13290.94811758,\n",
       "       10342.12179816, 13959.42979706, 13539.39837458, 16451.82011145,\n",
       "       10984.86543165, 14564.34107013, 16216.05065249, 10607.37603827,\n",
       "       15107.3171534 , 12800.77508535, 11293.91386974, 10693.55669365,\n",
       "        8420.48451519, 10888.59874363, 10689.75506821, 12192.53976155,\n",
       "       19179.89991174,  6980.33922771,  9390.05900188, 14596.44079165,\n",
       "       10239.76848502, 15250.94495493,  9691.32952872, 10930.76946732,\n",
       "       17103.15124256, 11487.89880261, 13783.02923158, 11922.60630873,\n",
       "       13333.77189732, 15811.00983045, 11097.32862038, 19233.0352547 ,\n",
       "       16363.56777534, 12733.93032208, 19743.12315448, 16365.3353043 ])"
      ]
     },
     "execution_count": 734,
     "metadata": {},
     "output_type": "execute_result"
    }
   ],
   "source": [
    "pred"
   ]
  },
  {
   "cell_type": "markdown",
   "metadata": {},
   "source": [
    "#### We can see that the model is not very accurate\n",
    "\n",
    "## Enhancing the results"
   ]
  },
  {
   "cell_type": "code",
   "execution_count": 735,
   "metadata": {},
   "outputs": [],
   "source": [
    "# Method to normalize the input variables\n",
    "def normalize_features(X):\n",
    "    means = np.mean(X, axis=0)\n",
    "    stds = np.std(X, axis=0)\n",
    "    normalized_X = (X - means) / stds\n",
    "    return normalized_X\n"
   ]
  },
  {
   "cell_type": "code",
   "execution_count": 736,
   "metadata": {},
   "outputs": [
    {
     "name": "stdout",
     "output_type": "stream",
     "text": [
      "mse = 33635210.43117842\n",
      "R^2 Score:  0.7833463107364538\n"
     ]
    }
   ],
   "source": [
    "# Splitting the data into training and testing sets, with 80% for training and 20% for testing.\n",
    "X_train, X_test, y_train, y_test = train_test_split(normalize_features(X), y, test_size=0.2, random_state=42)\n",
    "\n",
    "# Creating an instance of implemented LinearRegression class with specific hyperparameters (learning rate and number of iterations).\n",
    "reg = LinearRegression(0.05, 1000)\n",
    "\n",
    "# Fitting (training) the LinearRegression model on the training data (X_train, y_train).\n",
    "reg.fit(X_train, y_train)\n",
    "\n",
    "# Making predictions using the trained model on the testing data.\n",
    "pred = reg.predict(X_test)\n",
    "\n",
    "# Calculating the mean squared error (MSE) between the predicted values (pred) and the actual target values (y_test).\n",
    "mse = reg.mse(y_test, pred)\n",
    "\n",
    "# Printing the MSE as a measure of the model's performance on the test data.\n",
    "print(f\"mse = {mse}\")\n",
    "# Print R^2 score\n",
    "print('R^2 Score: ', reg.score(y_test, pred))"
   ]
  },
  {
   "cell_type": "markdown",
   "metadata": {},
   "source": [
    "## Conclusion\n",
    "\n",
    "### by normalizing the input variables, fine tuning the learning rate we have the same accuracy of the sklearn model"
   ]
  }
 ],
 "metadata": {
  "kernelspec": {
   "display_name": "Python 3",
   "language": "python",
   "name": "python3"
  },
  "language_info": {
   "codemirror_mode": {
    "name": "ipython",
    "version": 3
   },
   "file_extension": ".py",
   "mimetype": "text/x-python",
   "name": "python",
   "nbconvert_exporter": "python",
   "pygments_lexer": "ipython3",
   "version": "3.9.7"
  }
 },
 "nbformat": 4,
 "nbformat_minor": 2
}
